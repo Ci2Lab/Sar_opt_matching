{
 "cells": [
  {
   "attachments": {},
   "cell_type": "markdown",
   "metadata": {},
   "source": [
    "# MARU-Net: Multi-Scale Attention Gated Residual U-Net With Contrastive Loss for SAR-Optical Image Matching"
   ]
  },
  {
   "cell_type": "code",
   "execution_count": 2,
   "metadata": {},
   "outputs": [],
   "source": [
    "import SarOptMatch\n",
    "import tensorflow as tf\n",
    "import random\n",
    "import numpy as np\n",
    "\n",
    "# Assign seed\n",
    "seed = 42\n",
    "random.seed(seed)\n",
    "np.random.seed(seed)\n",
    "tf.random.set_seed(seed)"
   ]
  },
  {
   "attachments": {},
   "cell_type": "markdown",
   "metadata": {},
   "source": [
    "### Generate dataset\n",
    "We first generate the dataset:"
   ]
  },
  {
   "cell_type": "code",
   "execution_count": 3,
   "metadata": {},
   "outputs": [
    {
     "name": "stdout",
     "output_type": "stream",
     "text": [
      "Time for sen1_2 is 4.643621444702148\n",
      "Time for split_data is 1.163482427597046\n"
     ]
    }
   ],
   "source": [
    "# Generate dataset\n",
    "sar_files, opt_files, offsets = SarOptMatch.dataset.sen1_2(data_path = 'C:/Users/miche/Downloads/SEN1-2', seed = seed, ims_per_folder = 1)\n",
    "\n",
    "# Process and split dataset\n",
    "training_data, validation_data, validation_dataRGB = SarOptMatch.dataset.split_data(sar_files, opt_files, offsets, batch_size = 4, seed = seed, masking_strategy = \"unet\")"
   ]
  },
  {
   "attachments": {},
   "cell_type": "markdown",
   "metadata": {},
   "source": [
    "### Model\n",
    "We first instantiate the `SAR_opt_Matcher()` class"
   ]
  },
  {
   "cell_type": "code",
   "execution_count": 4,
   "metadata": {},
   "outputs": [
    {
     "name": "stdout",
     "output_type": "stream",
     "text": [
      "<SAR_opt_Matcher> instantiated\n",
      "\n",
      "---Printing class attributes:---\n",
      "backbone = None\n",
      "n_filters = 0\n",
      "multiscale = None\n",
      "attention = None\n",
      "activation = None\n",
      "model = None\n",
      "\n",
      "\n"
     ]
    }
   ],
   "source": [
    "matcher = SarOptMatch.architectures.SAR_opt_Matcher()\n",
    "matcher.print_attributes()"
   ]
  },
  {
   "attachments": {},
   "cell_type": "markdown",
   "metadata": {},
   "source": [
    "If we want to train a model we specify the behaviour of the model through the *config* dictionary"
   ]
  },
  {
   "cell_type": "code",
   "execution_count": 6,
   "metadata": {},
   "outputs": [],
   "source": [
    "config = {'model_name' : \"marunet_vanilla\",\n",
    "                  'backbone' : 'marunet',\n",
    "                  'n_filters' : 32,\n",
    "                  'multiscale' : True,\n",
    "                  'attention' : True, \n",
    "                  'activation' : \"elu\"\n",
    "                  }\n",
    " \n",
    "matcher.create_model(**config) \n",
    "matcher.train(training_data, validation_data, epochs = 5)"
   ]
  },
  {
   "attachments": {},
   "cell_type": "markdown",
   "metadata": {},
   "source": [
    "if we want to load an existing model we call the `load_model()` method. We can select an existing model to be loaded. "
   ]
  },
  {
   "cell_type": "code",
   "execution_count": 7,
   "metadata": {},
   "outputs": [
    {
     "name": "stdout",
     "output_type": "stream",
     "text": [
      "--Loading\n",
      "\n",
      "---Printing class attributes:---\n",
      "backbone = marunet\n",
      "n_filters = 32\n",
      "multiscale = True\n",
      "attention = True\n",
      "activation = elu\n",
      "model = <keras.engine.functional.Functional object at 0x000001DAC819C700>\n",
      "model_name = C:/Users/miche/Dropbox/PhD/Projects/GridEyeS/SAR_optical_matching/Code/weights/marunet_vanilla.h5\n",
      "\n",
      "\n"
     ]
    }
   ],
   "source": [
    "matcher.load_model()\n",
    "matcher.print_attributes()"
   ]
  },
  {
   "attachments": {},
   "cell_type": "markdown",
   "metadata": {},
   "source": [
    "### Inference\n",
    "\n",
    "We use the model to generate the heatmaps and the feature maps"
   ]
  },
  {
   "cell_type": "code",
   "execution_count": 8,
   "metadata": {},
   "outputs": [
    {
     "name": "stdout",
     "output_type": "stream",
     "text": [
      "--Calculating heatmaps\n",
      "19/19 [==============================] - 13s 120ms/step\n",
      "--Calculating feature maps\n",
      "Features: psi_opt_o, psi_SAR_o, psi_opt_d,  psi_SAR_d\n",
      "19/19 [==============================] - 4s 96ms/step\n"
     ]
    }
   ],
   "source": [
    "# Generate heatmaps\n",
    "heatmaps = matcher.predict_heatmap(validation_data)\n",
    "\n",
    "# Generate feature maps\n",
    "feature_maps = matcher.calculate_features(validation_data)"
   ]
  },
  {
   "attachments": {},
   "cell_type": "markdown",
   "metadata": {},
   "source": [
    "## Visualization\n",
    "\n",
    "We can easily visualize all the outputs through a unified GUI (it will open an exteranl window)."
   ]
  },
  {
   "cell_type": "code",
   "execution_count": 9,
   "metadata": {},
   "outputs": [],
   "source": [
    "SarOptMatch.visualization.visualize_dataset_with_GUI(validation_dataRGB, heatmaps, feature_maps)"
   ]
  },
  {
   "attachments": {},
   "cell_type": "markdown",
   "metadata": {},
   "source": [
    "![img](https://github.com/MicheleGazzea/Sar_opt_matching/blob/main/imgs/GUI_example.png)"
   ]
  }
 ],
 "metadata": {
  "kernelspec": {
   "display_name": "base",
   "language": "python",
   "name": "python3"
  },
  "language_info": {
   "codemirror_mode": {
    "name": "ipython",
    "version": 3
   },
   "file_extension": ".py",
   "mimetype": "text/x-python",
   "name": "python",
   "nbconvert_exporter": "python",
   "pygments_lexer": "ipython3",
   "version": "3.8.8"
  },
  "orig_nbformat": 4
 },
 "nbformat": 4,
 "nbformat_minor": 2
}
